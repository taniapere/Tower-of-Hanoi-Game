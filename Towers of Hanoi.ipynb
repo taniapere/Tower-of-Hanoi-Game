{
 "cells": [
  {
   "cell_type": "code",
   "execution_count": 2,
   "metadata": {},
   "outputs": [],
   "source": [
    "class Node:\n",
    "    def __init__(self, value, link_node=None):\n",
    "        self.value = value\n",
    "        self.link_node = link_node\n",
    "    \n",
    "    def set_next_node(self, link_node):\n",
    "        self.link_node = link_node\n",
    "    \n",
    "    def get_next_node(self):\n",
    "        return self.link_node\n",
    "  \n",
    "    def get_value(self):\n",
    "        return self.value"
   ]
  },
  {
   "cell_type": "code",
   "execution_count": 4,
   "metadata": {},
   "outputs": [],
   "source": [
    "class Stack:\n",
    "    def __init__(self, name):\n",
    "        self.size = 0\n",
    "        self.top_item = None\n",
    "        self.limit = 1000\n",
    "        self.name = name\n",
    "  \n",
    "    def push(self, value):\n",
    "        if self.has_space():\n",
    "            item = Node(value)\n",
    "            item.set_next_node(self.top_item)\n",
    "            self.top_item = item\n",
    "            self.size += 1\n",
    "        else:\n",
    "            print(\"No more room!\")\n",
    "\n",
    "    def pop(self):\n",
    "        if self.size > 0:\n",
    "            item_to_remove = self.top_item\n",
    "            self.top_item = item_to_remove.get_next_node()\n",
    "            self.size -= 1\n",
    "            return item_to_remove.get_value()\n",
    "        print(\"This stack is totally empty.\")\n",
    "\n",
    "    def peek(self):\n",
    "         if self.size > 0:\n",
    "            return self.top_item.get_value()\n",
    "         print(\"Nothing to see here!\")\n",
    "\n",
    "    def has_space(self):\n",
    "        return self.limit > self.size\n",
    "\n",
    "    def is_empty(self):\n",
    "        return self.size == 0\n",
    "  \n",
    "    def get_size(self):\n",
    "        return self.size\n",
    "  \n",
    "    def get_name(self):\n",
    "        return self.name\n",
    "  \n",
    "    def print_items(self):\n",
    "        pointer = self.top_item\n",
    "        print_list = []\n",
    "        while(pointer):\n",
    "            print_list.append(pointer.get_value())\n",
    "            pointer = pointer.get_next_node()\n",
    "        print_list.reverse()\n",
    "        print(\"{0} Stack: {1}\".format(self.get_name(), print_list))"
   ]
  },
  {
   "cell_type": "code",
   "execution_count": 5,
   "metadata": {},
   "outputs": [
    {
     "name": "stdout",
     "output_type": "stream",
     "text": [
      "\n",
      "Let's play Towers of Hanoi!!\n"
     ]
    }
   ],
   "source": [
    "print(\"\\nLet's play Towers of Hanoi!!\")"
   ]
  },
  {
   "cell_type": "code",
   "execution_count": 9,
   "metadata": {},
   "outputs": [],
   "source": [
    "stacks = []\n",
    "left_stack = Stack(\"Left\")\n",
    "middle_stack = Stack(\"Middle\")\n",
    "right_stack = Stack(\"Right\")\n",
    "stacks.append(left_stack)\n",
    "stacks.append(middle_stack)\n",
    "stacks.append(right_stack)"
   ]
  },
  {
   "cell_type": "code",
   "execution_count": 10,
   "metadata": {},
   "outputs": [
    {
     "name": "stdout",
     "output_type": "stream",
     "text": [
      "\n",
      "How many disks do you want to play with?\n",
      "5\n"
     ]
    }
   ],
   "source": [
    "num_disks = int(input(\"\\nHow many disks do you want to play with?\\n\"))"
   ]
  },
  {
   "cell_type": "code",
   "execution_count": 11,
   "metadata": {},
   "outputs": [],
   "source": [
    "while num_disks<3:\n",
    "    num_disks = int(input(\"Enter a number greater than or equal to 3\\n\"))"
   ]
  },
  {
   "cell_type": "code",
   "execution_count": 13,
   "metadata": {},
   "outputs": [],
   "source": [
    "for disk in range(num_disks,0,-1):\n",
    "    left_stack.push(disk)"
   ]
  },
  {
   "cell_type": "code",
   "execution_count": 16,
   "metadata": {},
   "outputs": [],
   "source": [
    "num_optimal_moves = 2**num_disks - 1"
   ]
  },
  {
   "cell_type": "code",
   "execution_count": 21,
   "metadata": {},
   "outputs": [
    {
     "name": "stdout",
     "output_type": "stream",
     "text": [
      "\n",
      "The fastest you can solve this game is in 31 moves\n"
     ]
    }
   ],
   "source": [
    "print(\"\\nThe fastest you can solve this game is in {} moves\".format(num_optimal_moves))"
   ]
  },
  {
   "cell_type": "code",
   "execution_count": 35,
   "metadata": {},
   "outputs": [],
   "source": [
    "def get_input():\n",
    "    choices = [stack.get_name()[0] for stack in stacks]\n",
    "    while True:\n",
    "        for i in range(len(stacks)):\n",
    "            name = stacks[i].get_name()\n",
    "            letter = choices [i]\n",
    "            print(\"Enter {0} for {1}\".format(name, letter))\n",
    "        user_input = input('')\n",
    "        if user_input in choices:\n",
    "            for i in range(len(stacks)):\n",
    "                return stacks[i]"
   ]
  },
  {
   "cell_type": "code",
   "execution_count": 36,
   "metadata": {},
   "outputs": [],
   "source": [
    "#play_the game\n",
    "num_user_moves = 0"
   ]
  },
  {
   "cell_type": "code",
   "execution_count": 41,
   "metadata": {},
   "outputs": [
    {
     "name": "stdout",
     "output_type": "stream",
     "text": [
      "\n",
      "\n",
      "\n",
      "...Current Stacks...\n",
      "Left Stack: [5, 4, 3, 2, 1]\n",
      "Middle Stack: []\n",
      "Right Stack: []\n",
      "\n",
      "Which stack do you want to move from?\n",
      "\n",
      "Enter Left for L\n",
      "Enter Middle for M\n",
      "Enter Right for R\n",
      "R\n",
      "\n",
      "Which stack do you want to move to?\n",
      "\n",
      "Enter Left for L\n",
      "Enter Middle for M\n",
      "Enter Right for R\n",
      "L\n",
      "\n",
      "\n",
      "Invalid Move. Try Again\n",
      "\n",
      "Which stack do you want to move from?\n",
      "\n",
      "Enter Left for L\n",
      "Enter Middle for M\n",
      "Enter Right for R\n",
      "M\n",
      "\n",
      "Which stack do you want to move to?\n",
      "\n",
      "Enter Left for L\n",
      "Enter Middle for M\n",
      "Enter Right for R\n",
      "R\n",
      "\n",
      "\n",
      "Invalid Move. Try Again\n",
      "\n",
      "Which stack do you want to move from?\n",
      "\n",
      "Enter Left for L\n",
      "Enter Middle for M\n",
      "Enter Right for R\n"
     ]
    },
    {
     "ename": "KeyboardInterrupt",
     "evalue": "Interrupted by user",
     "output_type": "error",
     "traceback": [
      "\u001b[0;31m---------------------------------------------------------------------------\u001b[0m",
      "\u001b[0;31mKeyboardInterrupt\u001b[0m                         Traceback (most recent call last)",
      "\u001b[0;32m<ipython-input-41-c2c09b3faebe>\u001b[0m in \u001b[0;36m<module>\u001b[0;34m\u001b[0m\n\u001b[1;32m      6\u001b[0m     \u001b[0;32mwhile\u001b[0m \u001b[0;32mTrue\u001b[0m\u001b[0;34m:\u001b[0m\u001b[0;34m\u001b[0m\u001b[0;34m\u001b[0m\u001b[0m\n\u001b[1;32m      7\u001b[0m         \u001b[0mprint\u001b[0m\u001b[0;34m(\u001b[0m\u001b[0;34m\"\\nWhich stack do you want to move from?\\n\"\u001b[0m\u001b[0;34m)\u001b[0m\u001b[0;34m\u001b[0m\u001b[0;34m\u001b[0m\u001b[0m\n\u001b[0;32m----> 8\u001b[0;31m         \u001b[0mfrom_stack\u001b[0m \u001b[0;34m=\u001b[0m \u001b[0mget_input\u001b[0m\u001b[0;34m(\u001b[0m\u001b[0;34m)\u001b[0m\u001b[0;34m\u001b[0m\u001b[0;34m\u001b[0m\u001b[0m\n\u001b[0m\u001b[1;32m      9\u001b[0m         \u001b[0mprint\u001b[0m\u001b[0;34m(\u001b[0m\u001b[0;34m\"\\nWhich stack do you want to move to?\\n\"\u001b[0m\u001b[0;34m)\u001b[0m\u001b[0;34m\u001b[0m\u001b[0;34m\u001b[0m\u001b[0m\n\u001b[1;32m     10\u001b[0m         \u001b[0mto_stack\u001b[0m \u001b[0;34m=\u001b[0m \u001b[0mget_input\u001b[0m\u001b[0;34m(\u001b[0m\u001b[0;34m)\u001b[0m\u001b[0;34m\u001b[0m\u001b[0;34m\u001b[0m\u001b[0m\n",
      "\u001b[0;32m<ipython-input-35-55002aab6d97>\u001b[0m in \u001b[0;36mget_input\u001b[0;34m()\u001b[0m\n\u001b[1;32m      6\u001b[0m             \u001b[0mletter\u001b[0m \u001b[0;34m=\u001b[0m \u001b[0mchoices\u001b[0m \u001b[0;34m[\u001b[0m\u001b[0mi\u001b[0m\u001b[0;34m]\u001b[0m\u001b[0;34m\u001b[0m\u001b[0;34m\u001b[0m\u001b[0m\n\u001b[1;32m      7\u001b[0m             \u001b[0mprint\u001b[0m\u001b[0;34m(\u001b[0m\u001b[0;34m\"Enter {0} for {1}\"\u001b[0m\u001b[0;34m.\u001b[0m\u001b[0mformat\u001b[0m\u001b[0;34m(\u001b[0m\u001b[0mname\u001b[0m\u001b[0;34m,\u001b[0m \u001b[0mletter\u001b[0m\u001b[0;34m)\u001b[0m\u001b[0;34m)\u001b[0m\u001b[0;34m\u001b[0m\u001b[0;34m\u001b[0m\u001b[0m\n\u001b[0;32m----> 8\u001b[0;31m         \u001b[0muser_input\u001b[0m \u001b[0;34m=\u001b[0m \u001b[0minput\u001b[0m\u001b[0;34m(\u001b[0m\u001b[0;34m''\u001b[0m\u001b[0;34m)\u001b[0m\u001b[0;34m\u001b[0m\u001b[0;34m\u001b[0m\u001b[0m\n\u001b[0m\u001b[1;32m      9\u001b[0m         \u001b[0;32mif\u001b[0m \u001b[0muser_input\u001b[0m \u001b[0;32min\u001b[0m \u001b[0mchoices\u001b[0m\u001b[0;34m:\u001b[0m\u001b[0;34m\u001b[0m\u001b[0;34m\u001b[0m\u001b[0m\n\u001b[1;32m     10\u001b[0m             \u001b[0;32mfor\u001b[0m \u001b[0mi\u001b[0m \u001b[0;32min\u001b[0m \u001b[0mrange\u001b[0m\u001b[0;34m(\u001b[0m\u001b[0mlen\u001b[0m\u001b[0;34m(\u001b[0m\u001b[0mstacks\u001b[0m\u001b[0;34m)\u001b[0m\u001b[0;34m)\u001b[0m\u001b[0;34m:\u001b[0m\u001b[0;34m\u001b[0m\u001b[0;34m\u001b[0m\u001b[0m\n",
      "\u001b[0;32m~/anaconda3/lib/python3.8/site-packages/ipykernel/kernelbase.py\u001b[0m in \u001b[0;36mraw_input\u001b[0;34m(self, prompt)\u001b[0m\n\u001b[1;32m    858\u001b[0m                 \u001b[0;34m\"raw_input was called, but this frontend does not support input requests.\"\u001b[0m\u001b[0;34m\u001b[0m\u001b[0;34m\u001b[0m\u001b[0m\n\u001b[1;32m    859\u001b[0m             )\n\u001b[0;32m--> 860\u001b[0;31m         return self._input_request(str(prompt),\n\u001b[0m\u001b[1;32m    861\u001b[0m             \u001b[0mself\u001b[0m\u001b[0;34m.\u001b[0m\u001b[0m_parent_ident\u001b[0m\u001b[0;34m,\u001b[0m\u001b[0;34m\u001b[0m\u001b[0;34m\u001b[0m\u001b[0m\n\u001b[1;32m    862\u001b[0m             \u001b[0mself\u001b[0m\u001b[0;34m.\u001b[0m\u001b[0m_parent_header\u001b[0m\u001b[0;34m,\u001b[0m\u001b[0;34m\u001b[0m\u001b[0;34m\u001b[0m\u001b[0m\n",
      "\u001b[0;32m~/anaconda3/lib/python3.8/site-packages/ipykernel/kernelbase.py\u001b[0m in \u001b[0;36m_input_request\u001b[0;34m(self, prompt, ident, parent, password)\u001b[0m\n\u001b[1;32m    902\u001b[0m             \u001b[0;32mexcept\u001b[0m \u001b[0mKeyboardInterrupt\u001b[0m\u001b[0;34m:\u001b[0m\u001b[0;34m\u001b[0m\u001b[0;34m\u001b[0m\u001b[0m\n\u001b[1;32m    903\u001b[0m                 \u001b[0;31m# re-raise KeyboardInterrupt, to truncate traceback\u001b[0m\u001b[0;34m\u001b[0m\u001b[0;34m\u001b[0m\u001b[0;34m\u001b[0m\u001b[0m\n\u001b[0;32m--> 904\u001b[0;31m                 \u001b[0;32mraise\u001b[0m \u001b[0mKeyboardInterrupt\u001b[0m\u001b[0;34m(\u001b[0m\u001b[0;34m\"Interrupted by user\"\u001b[0m\u001b[0;34m)\u001b[0m \u001b[0;32mfrom\u001b[0m \u001b[0;32mNone\u001b[0m\u001b[0;34m\u001b[0m\u001b[0;34m\u001b[0m\u001b[0m\n\u001b[0m\u001b[1;32m    905\u001b[0m             \u001b[0;32mexcept\u001b[0m \u001b[0mException\u001b[0m \u001b[0;32mas\u001b[0m \u001b[0me\u001b[0m\u001b[0;34m:\u001b[0m\u001b[0;34m\u001b[0m\u001b[0;34m\u001b[0m\u001b[0m\n\u001b[1;32m    906\u001b[0m                 \u001b[0mself\u001b[0m\u001b[0;34m.\u001b[0m\u001b[0mlog\u001b[0m\u001b[0;34m.\u001b[0m\u001b[0mwarning\u001b[0m\u001b[0;34m(\u001b[0m\u001b[0;34m\"Invalid Message:\"\u001b[0m\u001b[0;34m,\u001b[0m \u001b[0mexc_info\u001b[0m\u001b[0;34m=\u001b[0m\u001b[0;32mTrue\u001b[0m\u001b[0;34m)\u001b[0m\u001b[0;34m\u001b[0m\u001b[0;34m\u001b[0m\u001b[0m\n",
      "\u001b[0;31mKeyboardInterrupt\u001b[0m: Interrupted by user"
     ]
    }
   ],
   "source": [
    "while right_stack.get_size() != num_disks:\n",
    "    print(\"\\n\\n\\n...Current Stacks...\")\n",
    "    for stack in stacks:\n",
    "        stack.print_items()\n",
    "        \n",
    "    while True:\n",
    "        print(\"\\nWhich stack do you want to move from?\\n\")\n",
    "        from_stack = get_input()\n",
    "        print(\"\\nWhich stack do you want to move to?\\n\")\n",
    "        to_stack = get_input()\n",
    "        \n",
    "        if from_stack.get_size ==0:\n",
    "            print(\"\\n\\nInvalid Move. Try Again\")\n",
    "        elif to_stack.get_size == 0 or from_stack.peek()< to_stack.peek():\n",
    "            disk = from_stack.pop()\n",
    "            to_stack.push(disk)\n",
    "            num_user_moves +=1\n",
    "            break\n",
    "        else:\n",
    "            print(\"\\n\\nInvalid Move. Try Again\")\n",
    "            \n",
    "print(\"\\n\\nYou completed the game in {0} moves, and the optimal number of moves is {1}\".format(num_user_moves, num_optimal_moves))"
   ]
  },
  {
   "cell_type": "code",
   "execution_count": null,
   "metadata": {},
   "outputs": [],
   "source": []
  }
 ],
 "metadata": {
  "kernelspec": {
   "display_name": "Python 3",
   "language": "python",
   "name": "python3"
  },
  "language_info": {
   "codemirror_mode": {
    "name": "ipython",
    "version": 3
   },
   "file_extension": ".py",
   "mimetype": "text/x-python",
   "name": "python",
   "nbconvert_exporter": "python",
   "pygments_lexer": "ipython3",
   "version": "3.8.3"
  }
 },
 "nbformat": 4,
 "nbformat_minor": 4
}
